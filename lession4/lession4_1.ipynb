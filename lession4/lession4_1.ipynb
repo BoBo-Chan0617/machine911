{
 "cells": [
  {
   "cell_type": "code",
   "execution_count": 1,
   "id": "0b62227d",
   "metadata": {},
   "outputs": [
    {
     "name": "stdout",
     "output_type": "stream",
     "text": [
      "Requirement already satisfied: wget in c:\\users\\a4226\\appdata\\local\\miniconda3\\envs\\machine_learning\\lib\\site-packages (3.2)\n",
      "Note: you may need to restart the kernel to use updated packages.\n"
     ]
    }
   ],
   "source": [
    "%pip install wget\n",
    "\n",
    "import os\n",
    "import wget\n",
    "if not os.path.exists(\"ChineseFont.ttf\"):\n",
    "    url = 'https://github.com/roberthsu2003/machine_learning/raw/refs/heads/main/source_data/ChineseFont.ttf'\n",
    "    filename = wget.download(url)\n",
    "else:\n",
    "    filename = 'ChineseFont.ttf'\n",
    "\n",
    "import numpy as np\n",
    "import matplotlib.pyplot as plt\n",
    "import matplotlib as mpl\n",
    "from matplotlib.font_manager import fontManager\n",
    "\n",
    "fontManager.addfont(filename)\n",
    "mpl.rcParams['font.family'] = 'ChineseFont'"
   ]
  }
 ],
 "metadata": {
  "kernelspec": {
   "display_name": "machine_learning",
   "language": "python",
   "name": "python3"
  },
  "language_info": {
   "codemirror_mode": {
    "name": "ipython",
    "version": 3
   },
   "file_extension": ".py",
   "mimetype": "text/x-python",
   "name": "python",
   "nbconvert_exporter": "python",
   "pygments_lexer": "ipython3",
   "version": "3.10.18"
  }
 },
 "nbformat": 4,
 "nbformat_minor": 5
}
