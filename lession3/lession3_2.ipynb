{
 "cells": [
  {
   "cell_type": "code",
   "execution_count": 3,
   "id": "50eef942",
   "metadata": {},
   "outputs": [],
   "source": [
    "%%capture\n",
    "%pip install wget\n",
    "%pip insatll mglearn \n"
   ]
  },
  {
   "cell_type": "code",
   "execution_count": 15,
   "id": "60cb85c8",
   "metadata": {},
   "outputs": [],
   "source": [
    "import wget as wg\n",
    "# 避免每次都重複下載字型檔\n",
    "# 要檢查有沒有重複下載\n",
    "import os\n",
    "if not os.path.exists(\"ChineseFont.ttf\"):\n",
    "    wg.download(\"https://github.com/roberthsu2003/machine_learning/raw/refs/heads/main/source_data/ChineseFont.ttf\")"
   ]
  },
  {
   "cell_type": "code",
   "execution_count": 10,
   "id": "bb4e0325",
   "metadata": {},
   "outputs": [],
   "source": [
    "import mglearn \n",
    "import matplotlib.pyplot as plt"
   ]
  },
  {
   "cell_type": "code",
   "execution_count": null,
   "id": "6ab96092",
   "metadata": {},
   "outputs": [
    {
     "name": "stdout",
     "output_type": "stream",
     "text": [
      "X的內容： [[ 9.96346605  4.59676542]\n",
      " [11.0329545  -0.16816717]\n",
      " [11.54155807  5.21116083]\n",
      " [ 8.69289001  1.54322016]\n",
      " [ 8.1062269   4.28695977]\n",
      " [ 8.30988863  4.80623966]\n",
      " [11.93027136  4.64866327]\n",
      " [ 9.67284681 -0.20283165]\n",
      " [ 8.34810316  5.13415623]\n",
      " [ 8.67494727  4.47573059]\n",
      " [ 9.17748385  5.09283177]\n",
      " [10.24028948  2.45544401]\n",
      " [ 8.68937095  1.48709629]\n",
      " [ 8.92229526 -0.63993225]\n",
      " [ 9.49123469  4.33224792]\n",
      " [ 9.25694192  5.13284858]\n",
      " [ 7.99815287  4.8525051 ]\n",
      " [ 8.18378052  1.29564214]\n",
      " [ 8.7337095   2.49162431]\n",
      " [ 9.32298256  5.09840649]\n",
      " [10.06393839  0.99078055]\n",
      " [ 9.50048972 -0.26430318]\n",
      " [ 8.34468785  1.63824349]\n",
      " [ 9.50169345  1.93824624]\n",
      " [ 9.15072323  5.49832246]\n",
      " [11.563957    1.3389402 ]]\n",
      "X的形狀： (26, 2)\n",
      "y的內容： [1 0 1 0 0 1 1 0 1 1 1 1 0 0 1 1 1 0 0 1 0 0 0 0 1 0]\n",
      "y的形狀： (26,)\n",
      "特徵1的內容： [ 9.96346605 11.0329545  11.54155807  8.69289001  8.1062269   8.30988863\n",
      " 11.93027136  9.67284681  8.34810316  8.67494727  9.17748385 10.24028948\n",
      "  8.68937095  8.92229526  9.49123469  9.25694192  7.99815287  8.18378052\n",
      "  8.7337095   9.32298256 10.06393839  9.50048972  8.34468785  9.50169345\n",
      "  9.15072323 11.563957  ]\n",
      "特徵1的形狀： (26,)\n",
      "特徵2的內容： [ 4.59676542 -0.16816717  5.21116083  1.54322016  4.28695977  4.80623966\n",
      "  4.64866327 -0.20283165  5.13415623  4.47573059  5.09283177  2.45544401\n",
      "  1.48709629 -0.63993225  4.33224792  5.13284858  4.8525051   1.29564214\n",
      "  2.49162431  5.09840649  0.99078055 -0.26430318  1.63824349  1.93824624\n",
      "  5.49832246  1.3389402 ]\n",
      "特徵2的形狀： (26,)\n"
     ]
    }
   ],
   "source": [
    "# todo: 請使用mglearn內有一個make_forge()函數來產生資料\n",
    "# 請取出特徵和標籤\n",
    "X, y = mglearn.datasets.make_forge()\n",
    "#請顯示X和y的內容和形狀\n",
    "print(\"X的內容：\", X)\n",
    "print(\"X的形狀：\", X.shape)\n",
    "print(\"y的內容：\", y)\n",
    "print(\"y的形狀：\", y.shape)\n",
    "\n",
    "#請取出特徵1和特徵2\n",
    "feature1 = X[:, 0]\n",
    "feature2 = X[:, 1]  \n",
    "#請顯示特徵1和特徵2的內容和形狀\n",
    "#請改用中文顯示\n",
    "plt.rcParams['font.sans-serif'] = ['ChineseFont']  # 指定預設字型\n",
    "plt.rcParams['axes.unicode_minus'] = False  # 解決負號無法顯示的問題\n",
    "print(\"特徵1的內容：\", feature1)\n",
    "print(\"特徵1的形狀：\", feature1.shape)\n",
    "print(\"特徵2的內容：\", feature2)\n",
    "print(\"特徵2的形狀：\", feature2.shape)\n",
    "\n"
   ]
  },
  {
   "cell_type": "code",
   "execution_count": 13,
   "id": "cd2388ae",
   "metadata": {},
   "outputs": [
    {
     "name": "stderr",
     "output_type": "stream",
     "text": [
      "findfont: Generic family 'sans-serif' not found because none of the following families were found: ChineseFont\n",
      "findfont: Generic family 'sans-serif' not found because none of the following families were found: ChineseFont\n",
      "findfont: Generic family 'sans-serif' not found because none of the following families were found: ChineseFont\n",
      "findfont: Generic family 'sans-serif' not found because none of the following families were found: ChineseFont\n",
      "findfont: Generic family 'sans-serif' not found because none of the following families were found: ChineseFont\n",
      "findfont: Generic family 'sans-serif' not found because none of the following families were found: ChineseFont\n",
      "findfont: Generic family 'sans-serif' not found because none of the following families were found: ChineseFont\n",
      "findfont: Generic family 'sans-serif' not found because none of the following families were found: ChineseFont\n",
      "findfont: Generic family 'sans-serif' not found because none of the following families were found: ChineseFont\n",
      "c:\\Users\\A4226\\AppData\\Local\\miniconda3\\envs\\machine_learning\\lib\\site-packages\\IPython\\core\\pylabtools.py:170: UserWarning: Glyph 29305 (\\N{CJK UNIFIED IDEOGRAPH-7279}) missing from font(s) DejaVu Sans.\n",
      "  fig.canvas.print_figure(bytes_io, **kw)\n",
      "c:\\Users\\A4226\\AppData\\Local\\miniconda3\\envs\\machine_learning\\lib\\site-packages\\IPython\\core\\pylabtools.py:170: UserWarning: Glyph 24501 (\\N{CJK UNIFIED IDEOGRAPH-5FB5}) missing from font(s) DejaVu Sans.\n",
      "  fig.canvas.print_figure(bytes_io, **kw)\n",
      "findfont: Generic family 'sans-serif' not found because none of the following families were found: ChineseFont\n",
      "findfont: Generic family 'sans-serif' not found because none of the following families were found: ChineseFont\n",
      "c:\\Users\\A4226\\AppData\\Local\\miniconda3\\envs\\machine_learning\\lib\\site-packages\\IPython\\core\\pylabtools.py:170: UserWarning: Glyph 25955 (\\N{CJK UNIFIED IDEOGRAPH-6563}) missing from font(s) DejaVu Sans.\n",
      "  fig.canvas.print_figure(bytes_io, **kw)\n",
      "c:\\Users\\A4226\\AppData\\Local\\miniconda3\\envs\\machine_learning\\lib\\site-packages\\IPython\\core\\pylabtools.py:170: UserWarning: Glyph 20296 (\\N{CJK UNIFIED IDEOGRAPH-4F48}) missing from font(s) DejaVu Sans.\n",
      "  fig.canvas.print_figure(bytes_io, **kw)\n",
      "c:\\Users\\A4226\\AppData\\Local\\miniconda3\\envs\\machine_learning\\lib\\site-packages\\IPython\\core\\pylabtools.py:170: UserWarning: Glyph 22294 (\\N{CJK UNIFIED IDEOGRAPH-5716}) missing from font(s) DejaVu Sans.\n",
      "  fig.canvas.print_figure(bytes_io, **kw)\n",
      "findfont: Generic family 'sans-serif' not found because none of the following families were found: ChineseFont\n",
      "findfont: Generic family 'sans-serif' not found because none of the following families were found: ChineseFont\n",
      "findfont: Generic family 'sans-serif' not found because none of the following families were found: ChineseFont\n",
      "findfont: Generic family 'sans-serif' not found because none of the following families were found: ChineseFont\n",
      "findfont: Generic family 'sans-serif' not found because none of the following families were found: ChineseFont\n",
      "findfont: Generic family 'sans-serif' not found because none of the following families were found: ChineseFont\n",
      "findfont: Generic family 'sans-serif' not found because none of the following families were found: ChineseFont\n",
      "findfont: Generic family 'sans-serif' not found because none of the following families were found: ChineseFont\n",
      "findfont: Generic family 'sans-serif' not found because none of the following families were found: ChineseFont\n",
      "findfont: Generic family 'sans-serif' not found because none of the following families were found: ChineseFont\n",
      "findfont: Generic family 'sans-serif' not found because none of the following families were found: ChineseFont\n",
      "c:\\Users\\A4226\\AppData\\Local\\miniconda3\\envs\\machine_learning\\lib\\site-packages\\IPython\\core\\pylabtools.py:170: UserWarning: Glyph 39006 (\\N{CJK UNIFIED IDEOGRAPH-985E}) missing from font(s) DejaVu Sans.\n",
      "  fig.canvas.print_figure(bytes_io, **kw)\n",
      "c:\\Users\\A4226\\AppData\\Local\\miniconda3\\envs\\machine_learning\\lib\\site-packages\\IPython\\core\\pylabtools.py:170: UserWarning: Glyph 21029 (\\N{CJK UNIFIED IDEOGRAPH-5225}) missing from font(s) DejaVu Sans.\n",
      "  fig.canvas.print_figure(bytes_io, **kw)\n",
      "findfont: Generic family 'sans-serif' not found because none of the following families were found: ChineseFont\n",
      "findfont: Generic family 'sans-serif' not found because none of the following families were found: ChineseFont\n",
      "findfont: Generic family 'sans-serif' not found because none of the following families were found: ChineseFont\n",
      "findfont: Generic family 'sans-serif' not found because none of the following families were found: ChineseFont\n",
      "findfont: Generic family 'sans-serif' not found because none of the following families were found: ChineseFont\n",
      "findfont: Generic family 'sans-serif' not found because none of the following families were found: ChineseFont\n",
      "findfont: Generic family 'sans-serif' not found because none of the following families were found: ChineseFont\n",
      "findfont: Generic family 'sans-serif' not found because none of the following families were found: ChineseFont\n",
      "findfont: Generic family 'sans-serif' not found because none of the following families were found: ChineseFont\n",
      "findfont: Generic family 'sans-serif' not found because none of the following families were found: ChineseFont\n",
      "findfont: Generic family 'sans-serif' not found because none of the following families were found: ChineseFont\n",
      "findfont: Generic family 'sans-serif' not found because none of the following families were found: ChineseFont\n",
      "findfont: Generic family 'sans-serif' not found because none of the following families were found: ChineseFont\n",
      "findfont: Generic family 'sans-serif' not found because none of the following families were found: ChineseFont\n",
      "findfont: Generic family 'sans-serif' not found because none of the following families were found: ChineseFont\n",
      "findfont: Generic family 'sans-serif' not found because none of the following families were found: ChineseFont\n",
      "findfont: Generic family 'sans-serif' not found because none of the following families were found: ChineseFont\n",
      "findfont: Generic family 'sans-serif' not found because none of the following families were found: ChineseFont\n",
      "findfont: Generic family 'sans-serif' not found because none of the following families were found: ChineseFont\n",
      "findfont: Generic family 'sans-serif' not found because none of the following families were found: ChineseFont\n",
      "findfont: Generic family 'sans-serif' not found because none of the following families were found: ChineseFont\n",
      "findfont: Generic family 'sans-serif' not found because none of the following families were found: ChineseFont\n",
      "findfont: Generic family 'sans-serif' not found because none of the following families were found: ChineseFont\n",
      "findfont: Generic family 'sans-serif' not found because none of the following families were found: ChineseFont\n",
      "findfont: Generic family 'sans-serif' not found because none of the following families were found: ChineseFont\n",
      "findfont: Generic family 'sans-serif' not found because none of the following families were found: ChineseFont\n",
      "findfont: Generic family 'sans-serif' not found because none of the following families were found: ChineseFont\n",
      "findfont: Generic family 'sans-serif' not found because none of the following families were found: ChineseFont\n",
      "findfont: Generic family 'sans-serif' not found because none of the following families were found: ChineseFont\n",
      "findfont: Generic family 'sans-serif' not found because none of the following families were found: ChineseFont\n",
      "findfont: Generic family 'sans-serif' not found because none of the following families were found: ChineseFont\n",
      "findfont: Generic family 'sans-serif' not found because none of the following families were found: ChineseFont\n",
      "findfont: Generic family 'sans-serif' not found because none of the following families were found: ChineseFont\n",
      "findfont: Generic family 'sans-serif' not found because none of the following families were found: ChineseFont\n",
      "findfont: Generic family 'sans-serif' not found because none of the following families were found: ChineseFont\n",
      "findfont: Generic family 'sans-serif' not found because none of the following families were found: ChineseFont\n",
      "findfont: Generic family 'sans-serif' not found because none of the following families were found: ChineseFont\n",
      "findfont: Generic family 'sans-serif' not found because none of the following families were found: ChineseFont\n",
      "findfont: Generic family 'sans-serif' not found because none of the following families were found: ChineseFont\n",
      "findfont: Generic family 'sans-serif' not found because none of the following families were found: ChineseFont\n",
      "findfont: Generic family 'sans-serif' not found because none of the following families were found: ChineseFont\n",
      "findfont: Generic family 'sans-serif' not found because none of the following families were found: ChineseFont\n",
      "findfont: Generic family 'sans-serif' not found because none of the following families were found: ChineseFont\n",
      "findfont: Generic family 'sans-serif' not found because none of the following families were found: ChineseFont\n",
      "findfont: Generic family 'sans-serif' not found because none of the following families were found: ChineseFont\n"
     ]
    },
    {
     "data": {
      "image/png": "[encoded data removed]",
      "text/plain": [
       "<Figure size 640x480 with 1 Axes>"
      ]
     },
     "metadata": {},
     "output_type": "display_data"
    }
   ],
   "source": [
    "#請使用mglearn內有一個discrete_scatter()函數來繪製散佈圖\n",
    "mglearn.discrete_scatter(feature1, feature2, y)\n",
    "plt.xlabel(\"特徵1\")\n",
    "plt.ylabel(\"特徵2\")\n",
    "plt.legend([\"類別0\", \"類別1\"], loc=4)\n",
    "plt.title(\"散佈圖\")\n",
    "plt.show()\n"
   ]
  }
 ],
 "metadata": {
  "kernelspec": {
   "display_name": "machine_learning",
   "language": "python",
   "name": "python3"
  },
  "language_info": {
   "codemirror_mode": {
    "name": "ipython",
    "version": 3
   },
   "file_extension": ".py",
   "mimetype": "text/x-python",
   "name": "python",
   "nbconvert_exporter": "python",
   "pygments_lexer": "ipython3",
   "version": "3.10.18"
  }
 },
 "nbformat": 4,
 "nbformat_minor": 5
}
