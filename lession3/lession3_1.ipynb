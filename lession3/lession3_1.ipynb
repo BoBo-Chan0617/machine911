{
 "cells": [
  {
   "cell_type": "markdown",
   "id": "66f3b4d7",
   "metadata": {},
   "source": [
    "# 大標題\n",
    "## 次標題\n",
    "\n",
    "這是段落\n",
    "\n",
    "- 列表1\n",
    "- 列表2\n",
    "\n",
    "1. 數字列表1\n",
    "2. 數字列表2"
   ]
  },
  {
   "cell_type": "code",
   "execution_count": 7,
   "id": "399576d3",
   "metadata": {},
   "outputs": [
    {
     "name": "stdout",
     "output_type": "stream",
     "text": [
      "Hello, World TODAY!\n"
     ]
    }
   ],
   "source": [
    "print(\"Hello, World TODAY!\")\n"
   ]
  }
 ],
 "metadata": {
  "kernelspec": {
   "display_name": "machine_learning",
   "language": "python",
   "name": "python3"
  },
  "language_info": {
   "codemirror_mode": {
    "name": "ipython",
    "version": 3
   },
   "file_extension": ".py",
   "mimetype": "text/x-python",
   "name": "python",
   "nbconvert_exporter": "python",
   "pygments_lexer": "ipython3",
   "version": "3.10.18"
  }
 },
 "nbformat": 4,
 "nbformat_minor": 5
}
